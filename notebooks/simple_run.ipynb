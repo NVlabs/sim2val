{
 "cells": [
  {
   "cell_type": "code",
   "execution_count": null,
   "metadata": {},
   "outputs": [],
   "source": [
    "%load_ext autoreload\n",
    "%autoreload 2\n",
    "%cd ..\n",
    "\n",
    "import numpy as np"
   ]
  },
  {
   "cell_type": "code",
   "execution_count": null,
   "metadata": {},
   "outputs": [],
   "source": [
    "from sim2val.control_variates import control_variates_estimator\n",
    "\n",
    "np.random.seed(0)\n",
    "MU = 8.3\n",
    "VAR_F = 1.0\n",
    "VAR_G = 1.0\n",
    "RHO = 0.95\n",
    "N = 1000\n",
    "K = 10000\n",
    "cov_f_g = RHO * np.sqrt(VAR_F * VAR_G)\n",
    "covariance = np.array([[1.0, cov_f_g], [cov_f_g, VAR_G]])\n",
    "\n",
    "fg = np.random.multivariate_normal(np.array([MU, 0.0]), covariance, size=N + K)\n",
    "f = fg[:N, 0]\n",
    "g = fg[:N, 1]\n",
    "gp = fg[N:, 1]\n",
    "\n",
    "result = control_variates_estimator(f, g, gp)\n",
    "print(f\"result: {result}\")"
   ]
  }
 ],
 "metadata": {
  "kernelspec": {
   "display_name": "Python 3 (ipykernel)",
   "language": "python",
   "name": "python3"
  },
  "language_info": {
   "codemirror_mode": {
    "name": "ipython",
    "version": 3
   },
   "file_extension": ".py",
   "mimetype": "text/x-python",
   "name": "python",
   "nbconvert_exporter": "python",
   "pygments_lexer": "ipython3",
   "version": "3.13.2"
  }
 },
 "nbformat": 4,
 "nbformat_minor": 4
}
